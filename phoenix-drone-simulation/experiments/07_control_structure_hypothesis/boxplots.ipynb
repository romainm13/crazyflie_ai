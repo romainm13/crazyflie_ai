{
 "cells": [
  {
   "cell_type": "code",
   "execution_count": 45,
   "metadata": {},
   "outputs": [],
   "source": [
    "import matplotlib.pyplot as plt\n",
    "import numpy as np\n",
    "from eval_control_structures_experiment import plot_data_dict, DATA, CONTROL_MODES, fill_data_dict, get_setting_from_measurements\n",
    "import os\n",
    "\n",
    "plt.rcParams.update({\n",
    "    \"pgf.texsystem\": \"pdflatex\",\n",
    "    'font.family': 'serif',\n",
    "    'text.usetex': True,\n",
    "    'pgf.rcfonts': False,\n",
    "    'figure.autolayout' : True,\n",
    "    \"axes.titlesize\":20,\n",
    "    \"axes.labelsize\":20,\n",
    "    \"font.size\": 20,\n",
    "    \"legend.fontsize\": 18\n",
    "})\n"
   ]
  },
  {
   "cell_type": "code",
   "execution_count": 46,
   "metadata": {},
   "outputs": [
    {
     "name": "stdout",
     "output_type": "stream",
     "text": [
      "Found: 54 configs.\n",
      "NetworkMeasurement(control_mode='PWM', latency=0.02, motor_time_constant=0.06, seeds=[17, 15, 16], data=[])\n",
      "NetworkMeasurement(control_mode='PWM', latency=0.02, motor_time_constant=0.1, seeds=[34, 33, 35], data=[])\n",
      "NetworkMeasurement(control_mode='PWM', latency=0.0, motor_time_constant=0.04, seeds=[102, 100, 101], data=[])\n",
      "NetworkMeasurement(control_mode='PWM', latency=0.0, motor_time_constant=0.12, seeds=[106, 108, 107], data=[])\n",
      "NetworkMeasurement(control_mode='PWM', latency=0.02, motor_time_constant=0.12, seeds=[44, 43, 42], data=[])\n",
      "NetworkMeasurement(control_mode='PWM', latency=0.015, motor_time_constant=0.04, seeds=[5, 4, 3], data=[])\n",
      "NetworkMeasurement(control_mode='PWM', latency=0.0, motor_time_constant=0.08, seeds=[103, 105, 104], data=[])\n",
      "NetworkMeasurement(control_mode='PWM', latency=0.02, motor_time_constant=0.04, seeds=[6, 8, 7], data=[])\n",
      "NetworkMeasurement(control_mode='PWM', latency=0.01, motor_time_constant=0.06, seeds=[10, 11, 9], data=[])\n",
      "NetworkMeasurement(control_mode='PWM', latency=0.015, motor_time_constant=0.06, seeds=[13, 14, 12], data=[])\n",
      "NetworkMeasurement(control_mode='PWM', latency=0.015, motor_time_constant=0.08, seeds=[22, 21, 23], data=[])\n",
      "NetworkMeasurement(control_mode='PWM', latency=0.01, motor_time_constant=0.12, seeds=[36, 37, 38], data=[])\n",
      "NetworkMeasurement(control_mode='PWM', latency=0.01, motor_time_constant=0.1, seeds=[28, 29, 27], data=[])\n",
      "NetworkMeasurement(control_mode='PWM', latency=0.02, motor_time_constant=0.08, seeds=[26, 24, 25], data=[])\n",
      "NetworkMeasurement(control_mode='PWM', latency=0.01, motor_time_constant=0.08, seeds=[18, 19, 20], data=[])\n",
      "NetworkMeasurement(control_mode='PWM', latency=0.015, motor_time_constant=0.12, seeds=[41, 39, 40], data=[])\n",
      "NetworkMeasurement(control_mode='PWM', latency=0.015, motor_time_constant=0.1, seeds=[32, 30, 31], data=[])\n",
      "NetworkMeasurement(control_mode='PWM', latency=0.01, motor_time_constant=0.04, seeds=[2, 1, 0], data=[])\n",
      "=======================================================\n",
      "Found: 54 configs.\n",
      "NetworkMeasurement(control_mode='AttitudeRate', latency=0.02, motor_time_constant=0.08, seeds=[71, 70, 69], data=[])\n",
      "NetworkMeasurement(control_mode='AttitudeRate', latency=0.015, motor_time_constant=0.1, seeds=[77, 75, 76], data=[])\n",
      "NetworkMeasurement(control_mode='AttitudeRate', latency=0.02, motor_time_constant=0.12, seeds=[88, 87, 89], data=[])\n",
      "NetworkMeasurement(control_mode='AttitudeRate', latency=0.015, motor_time_constant=0.04, seeds=[50, 48, 49], data=[])\n",
      "NetworkMeasurement(control_mode='AttitudeRate', latency=0.015, motor_time_constant=0.12, seeds=[86, 84, 85], data=[])\n",
      "NetworkMeasurement(control_mode='AttitudeRate', latency=0.0, motor_time_constant=0.12, seeds=[116, 115, 117], data=[])\n",
      "NetworkMeasurement(control_mode='AttitudeRate', latency=0.01, motor_time_constant=0.12, seeds=[81, 83, 82], data=[])\n",
      "NetworkMeasurement(control_mode='AttitudeRate', latency=0.0, motor_time_constant=0.08, seeds=[112, 113, 114], data=[])\n",
      "NetworkMeasurement(control_mode='AttitudeRate', latency=0.01, motor_time_constant=0.04, seeds=[47, 45, 46], data=[])\n",
      "NetworkMeasurement(control_mode='AttitudeRate', latency=0.0, motor_time_constant=0.04, seeds=[110, 109, 111], data=[])\n",
      "NetworkMeasurement(control_mode='AttitudeRate', latency=0.02, motor_time_constant=0.1, seeds=[78, 80, 79], data=[])\n",
      "NetworkMeasurement(control_mode='AttitudeRate', latency=0.01, motor_time_constant=0.06, seeds=[54, 55, 56], data=[])\n",
      "NetworkMeasurement(control_mode='AttitudeRate', latency=0.02, motor_time_constant=0.04, seeds=[52, 51, 53], data=[])\n",
      "NetworkMeasurement(control_mode='AttitudeRate', latency=0.02, motor_time_constant=0.06, seeds=[60, 62, 61], data=[])\n",
      "NetworkMeasurement(control_mode='AttitudeRate', latency=0.015, motor_time_constant=0.06, seeds=[58, 57, 59], data=[])\n",
      "NetworkMeasurement(control_mode='AttitudeRate', latency=0.01, motor_time_constant=0.08, seeds=[64, 63, 65], data=[])\n",
      "NetworkMeasurement(control_mode='AttitudeRate', latency=0.015, motor_time_constant=0.08, seeds=[68, 67, 66], data=[])\n",
      "NetworkMeasurement(control_mode='AttitudeRate', latency=0.01, motor_time_constant=0.1, seeds=[73, 74, 72], data=[])\n",
      "=======================================================\n",
      "Found: 54 configs.\n",
      "NetworkMeasurement(control_mode='Attitude', latency=0.015, motor_time_constant=0.06, seeds=[14, 13, 12], data=[])\n",
      "NetworkMeasurement(control_mode='Attitude', latency=0.01, motor_time_constant=0.1, seeds=[29, 27, 28], data=[])\n",
      "NetworkMeasurement(control_mode='Attitude', latency=0.0, motor_time_constant=0.12, seeds=[124, 125, 126], data=[])\n",
      "NetworkMeasurement(control_mode='Attitude', latency=0.02, motor_time_constant=0.1, seeds=[34, 33, 35], data=[])\n",
      "NetworkMeasurement(control_mode='Attitude', latency=0.015, motor_time_constant=0.04, seeds=[5, 4, 3], data=[])\n",
      "NetworkMeasurement(control_mode='Attitude', latency=0.01, motor_time_constant=0.04, seeds=[2, 1, 0], data=[])\n",
      "NetworkMeasurement(control_mode='Attitude', latency=0.02, motor_time_constant=0.06, seeds=[16, 17, 15], data=[])\n",
      "NetworkMeasurement(control_mode='Attitude', latency=0.01, motor_time_constant=0.08, seeds=[19, 18, 20], data=[])\n",
      "NetworkMeasurement(control_mode='Attitude', latency=0.015, motor_time_constant=0.1, seeds=[31, 32, 30], data=[])\n",
      "NetworkMeasurement(control_mode='Attitude', latency=0.02, motor_time_constant=0.12, seeds=[43, 44, 42], data=[])\n",
      "NetworkMeasurement(control_mode='Attitude', latency=0.01, motor_time_constant=0.12, seeds=[36, 37, 38], data=[])\n",
      "NetworkMeasurement(control_mode='Attitude', latency=0.0, motor_time_constant=0.04, seeds=[119, 120, 118], data=[])\n",
      "NetworkMeasurement(control_mode='Attitude', latency=0.02, motor_time_constant=0.04, seeds=[6, 7, 8], data=[])\n",
      "NetworkMeasurement(control_mode='Attitude', latency=0.015, motor_time_constant=0.08, seeds=[21, 22, 23], data=[])\n",
      "NetworkMeasurement(control_mode='Attitude', latency=0.0, motor_time_constant=0.08, seeds=[121, 122, 123], data=[])\n",
      "NetworkMeasurement(control_mode='Attitude', latency=0.02, motor_time_constant=0.08, seeds=[25, 24, 26], data=[])\n",
      "NetworkMeasurement(control_mode='Attitude', latency=0.01, motor_time_constant=0.06, seeds=[9, 11, 10], data=[])\n",
      "NetworkMeasurement(control_mode='Attitude', latency=0.015, motor_time_constant=0.12, seeds=[41, 40, 39], data=[])\n",
      "=======================================================\n"
     ]
    }
   ],
   "source": [
    "fill_data_dict()"
   ]
  },
  {
   "cell_type": "code",
   "execution_count": 47,
   "metadata": {},
   "outputs": [],
   "source": [
    "# function for setting the colors of the box plots pairs\n",
    "from pylab import setp\n",
    "def setBoxColors(bp, color='blue'):\n",
    "    for i in range(len(bp['boxes'])):\n",
    "        setp(bp['boxes'][i], color=color)\n",
    "        setp(bp['caps'][0], color=color)\n",
    "        setp(bp['caps'][1], color=color)\n",
    "\n",
    "\n",
    "COLORS = ['blue', 'green', 'red']"
   ]
  },
  {
   "cell_type": "code",
   "execution_count": 48,
   "metadata": {},
   "outputs": [
    {
     "data": {
      "text/plain": "['PWM', 'AttitudeRate', 'Attitude']"
     },
     "execution_count": 48,
     "metadata": {},
     "output_type": "execute_result"
    }
   ],
   "source": [
    "CONTROL_MODES"
   ]
  },
  {
   "cell_type": "code",
   "execution_count": 53,
   "metadata": {},
   "outputs": [],
   "source": [
    "meanprops = dict(marker='D', markeredgecolor='black',\n",
    "                      markerfacecolor='firebrick')\n",
    "\n",
    "def display_box_plot(latency: float, name='Figure3x.pdf'):\n",
    "    # for latency in [0.01, 0.015, 0.020]:\n",
    "    \n",
    "    # fig = plt.figure()\n",
    "    # ax = plt.axes()\n",
    "    fig, ax = plt.subplots(figsize=(8, 5))\n",
    "    \n",
    "    displayed_control_modes = CONTROL_MODES\n",
    "\n",
    "    # plt.hold(True)\n",
    "\n",
    "    iteration = 0\n",
    "\n",
    "    # for control_mode in DATA.keys():\n",
    "    for control_mode in displayed_control_modes:\n",
    "        iteration += 1\n",
    "        ys = []\n",
    "        xs = [0.04, 0.08, 0.12] #, 0.08, 0.12]\n",
    "        for mtc in xs:\n",
    "            m = get_setting_from_measurements(\n",
    "                DATA[control_mode], mtc=mtc, latency=latency)\n",
    "            assert m is not None\n",
    "            ys.append(m.data)\n",
    "                \n",
    "        positions = [iteration+i*5 for i in range(len(xs))]  # e.g. [1, 4, 7, 10, ...]\n",
    "    \n",
    "        A = np.array(ys).T # box plot expects column-wise data\n",
    "        mtc_strings = [str(x) for x in xs]\n",
    "        bp = plt.boxplot(A,positions=positions, meanprops=meanprops, showmeans=False) #, label=f'Latency={latency} [{control_mode}]')\n",
    "        setBoxColors(bp, COLORS[iteration-1])\n",
    "    \n",
    "    ax.set_xticks([2, 7, 12])\n",
    "    ax.set_xticklabels(mtc_strings)\n",
    "\n",
    "    plt.ylim((-1, 21))\n",
    "    plt.ylabel('Mean Flight Time [s]', fontsize=22)\n",
    "    plt.xlabel('Motor Time constant [s]', fontsize=26)\n",
    "    # plt.title(f'Comparison Control Structure (Latency={int(latency*1000)}ms)')\n",
    "    leg = plt.legend(displayed_control_modes, loc= 'upper left')\n",
    "    for i, col in enumerate(COLORS):\n",
    "        leg.legendHandles[i].set_color(col)\n",
    "    # plt.show()\n",
    "    save_path = '/var/tmp/figures'\n",
    "    os.makedirs(save_path, exist_ok=True)\n",
    "    fig.savefig(os.path.join(save_path, name))\n",
    "    plt.show()\n",
    "    plt.tight_layout()\n",
    "    print(ys)"
   ]
  },
  {
   "cell_type": "code",
   "execution_count": 54,
   "metadata": {},
   "outputs": [
    {
     "data": {
      "text/plain": "<Figure size 576x360 with 1 Axes>",
      "image/png": "[encoded data removed]"
     },
     "metadata": {
      "needs_background": "light"
     },
     "output_type": "display_data"
    },
    {
     "name": "stdout",
     "output_type": "stream",
     "text": [
      "[[2.54, 0.74, 1.12, 2.19, 0.6, 0.84, 2.17, 5.08, 2.17], [3.52, 0.81, 0.75, 20.0, 5.32, 14.67, 0.72, 1.75, 0.7], [3.12, 20.0, 20.0, 9.46, 13.37, 7.87, 20.0, 9.67, 4.63]]\n"
     ]
    },
    {
     "data": {
      "text/plain": "<Figure size 432x288 with 0 Axes>"
     },
     "metadata": {},
     "output_type": "display_data"
    }
   ],
   "source": [
    "display_box_plot(latency=0.020, name='Figure3c.pdf')"
   ]
  },
  {
   "cell_type": "code",
   "execution_count": 55,
   "metadata": {},
   "outputs": [
    {
     "data": {
      "text/plain": "<Figure size 576x360 with 1 Axes>",
      "image/png": "[encoded data removed]"
     },
     "metadata": {
      "needs_background": "light"
     },
     "output_type": "display_data"
    },
    {
     "name": "stdout",
     "output_type": "stream",
     "text": [
      "[[2.67, 2.59, 3.22, 2.82, 1.47, 0.98, 2.07, 0.77, 2.83], [0.81, 1.41, 1.82, 7.95, 1.97, 6.1, 1.43, 3.65, 0.84], [2.35, 20.0, 14.53, 13.32, 20.0, 8.06, 5.85, 7.21, 4.41]]\n"
     ]
    },
    {
     "data": {
      "text/plain": "<Figure size 432x288 with 0 Axes>"
     },
     "metadata": {},
     "output_type": "display_data"
    }
   ],
   "source": [
    "display_box_plot(latency=0.015, name='Figure3b.pdf')"
   ]
  },
  {
   "cell_type": "code",
   "execution_count": 56,
   "metadata": {},
   "outputs": [
    {
     "data": {
      "text/plain": "<Figure size 576x360 with 1 Axes>",
      "image/png": "[encoded data removed]"
     },
     "metadata": {
      "needs_background": "light"
     },
     "output_type": "display_data"
    },
    {
     "name": "stdout",
     "output_type": "stream",
     "text": [
      "[[1.37, 0.71, 1.41, 2.2, 0.84, 1.68, 0.74, 0.7, 0.94], [0.74, 1.05, 0.85, 0.91, 2.9, 0.94, 0.93, 2.81, 0.6], [4.13, 1.97, 0.58, 1.73, 2.47, 3.15, 1.75, 9.0, 4.16]]\n"
     ]
    },
    {
     "data": {
      "text/plain": "<Figure size 432x288 with 0 Axes>"
     },
     "metadata": {},
     "output_type": "display_data"
    }
   ],
   "source": [
    "display_box_plot(latency=0.0, name='Figure3a.pdf')"
   ]
  },
  {
   "cell_type": "code",
   "execution_count": 8,
   "metadata": {},
   "outputs": [],
   "source": []
  },
  {
   "cell_type": "code",
   "execution_count": 8,
   "metadata": {},
   "outputs": [],
   "source": []
  },
  {
   "cell_type": "code",
   "execution_count": 8,
   "metadata": {
    "pycharm": {
     "name": "#%%\n"
    }
   },
   "outputs": [],
   "source": []
  }
 ],
 "metadata": {
  "kernelspec": {
   "display_name": "Python 3",
   "language": "python",
   "name": "python3"
  },
  "language_info": {
   "codemirror_mode": {
    "name": "ipython",
    "version": 3
   },
   "file_extension": ".py",
   "mimetype": "text/x-python",
   "name": "python",
   "nbconvert_exporter": "python",
   "pygments_lexer": "ipython3",
   "version": "3.7.3"
  }
 },
 "nbformat": 4,
 "nbformat_minor": 2
}